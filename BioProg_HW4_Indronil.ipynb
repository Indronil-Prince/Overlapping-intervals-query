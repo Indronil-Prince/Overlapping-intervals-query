{
  "cells": [
    {
      "cell_type": "raw",
      "id": "c9fb90f2",
      "metadata": {},
      "source": [
        "---\n",
        "title: '**C S 509 HW4**'\n",
        "---"
      ]
    },
    {
      "cell_type": "markdown",
      "id": "8b7e47ef",
      "metadata": {},
      "source": [
        "**Author:** Indronil Bhattacharjee\n",
        "\n",
        "**Submitted on:** September 26, 2023\n",
        "\n",
        "\n",
        "=============================================================\n"
      ]
    },
    {
      "cell_type": "code",
      "execution_count": null,
      "id": "fbb8401c",
      "metadata": {
        "_cell_guid": "b1076dfc-b9ad-4769-8c92-a6c4dae69d19",
        "_uuid": "8f2839f25d086af736a60e9eeb907d3b93b6e0e5",
        "execution": {
          "iopub.execute_input": "2023-09-26T05:36:09.564310Z",
          "iopub.status.busy": "2023-09-26T05:36:09.529504Z",
          "iopub.status.idle": "2023-09-26T05:37:26.040367Z"
        },
        "trusted": true,
        "vscode": {
          "languageId": "r"
        }
      },
      "outputs": [],
      "source": [
        "# Load required libraries\n",
        "library(dplyr)\n",
        "library(ggplot2)\n",
        "\n",
        "# Load the GFF3 file (replace 'path_to_gff3_file' with the actual file path)\n",
        "gff3_file <- read.table(\"/kaggle/input/gencode-human-genome-annotation/gencode.v44.primary_assembly.annotation.gff3\", header = FALSE, comment.char = \"#\", sep = \"\\t\")"
      ]
    },
    {
      "cell_type": "markdown",
      "id": "ffd9e5a1",
      "metadata": {},
      "source": [
        "### **Task 1:** Linear interval search ###\n"
      ]
    },
    {
      "cell_type": "code",
      "execution_count": null,
      "id": "0a22d702",
      "metadata": {
        "execution": {
          "iopub.execute_input": "2023-09-26T05:37:26.044398Z",
          "iopub.status.busy": "2023-09-26T05:37:26.043030Z",
          "iopub.status.idle": "2023-09-26T05:37:26.057129Z"
        },
        "trusted": true,
        "vscode": {
          "languageId": "r"
        }
      },
      "outputs": [],
      "source": [
        "# Linear search to count overlapping features\n",
        "count.features.linear <- function(chr, x, y, GFF) {\n",
        "  count <- 0\n",
        "  for (i in 1:nrow(GFF)) {\n",
        "    if (GFF$chromosome[i] == chr && GFF$end[i] >= x && GFF$start[i] <= y) {\n",
        "      count <- count + 1\n",
        "    }\n",
        "  }\n",
        "  return(count)\n",
        "}"
      ]
    },
    {
      "cell_type": "markdown",
      "id": "e4a150f1",
      "metadata": {},
      "source": [
        "### **Task 2:** Vectorized interval search ###\n"
      ]
    },
    {
      "cell_type": "code",
      "execution_count": null,
      "id": "34b2b764",
      "metadata": {
        "execution": {
          "iopub.execute_input": "2023-09-26T05:37:26.061898Z",
          "iopub.status.busy": "2023-09-26T05:37:26.059835Z",
          "iopub.status.idle": "2023-09-26T05:37:26.075510Z"
        },
        "trusted": true,
        "vscode": {
          "languageId": "r"
        }
      },
      "outputs": [],
      "source": [
        "# Vectorized search to count overlapping features\n",
        "count.features.vectorized <- function(chr, x, y, GFF) {\n",
        "  count <- sum(GFF$chromosome == chr & GFF$end >= x & GFF$start <= y)\n",
        "  return(count)\n",
        "}"
      ]
    },
    {
      "cell_type": "markdown",
      "id": "d0e630be",
      "metadata": {},
      "source": [
        "### **Task 3:** Binary interval search ###\n"
      ]
    },
    {
      "cell_type": "code",
      "execution_count": null,
      "id": "d4a7f8d1",
      "metadata": {
        "execution": {
          "iopub.execute_input": "2023-09-26T05:37:26.079483Z",
          "iopub.status.busy": "2023-09-26T05:37:26.078147Z",
          "iopub.status.idle": "2023-09-26T05:37:26.092031Z"
        },
        "trusted": true,
        "vscode": {
          "languageId": "r"
        }
      },
      "outputs": [],
      "source": [
        "count.features.binary <- function(chr, x, y, sorted.coordinates) {\n",
        "  count <- 0\n",
        "  left <- 1\n",
        "  right <- length(sorted.coordinates)\n",
        "  \n",
        "  while (left <= right) {\n",
        "    mid <- left + floor((right - left) / 2)\n",
        "    if (sorted.coordinates[mid] >= x && sorted.coordinates[mid] <= y) {\n",
        "      count <- count + 1\n",
        "    }\n",
        "    if (sorted.coordinates[mid] < x) {\n",
        "      left <- mid + 1\n",
        "    } else {\n",
        "      right <- mid - 1\n",
        "    }\n",
        "  }\n",
        "  return(count)\n",
        "}"
      ]
    },
    {
      "cell_type": "markdown",
      "id": "8c4dbda0",
      "metadata": {},
      "source": [
        "### **Task 4:** Reporting the runtime ###\n"
      ]
    },
    {
      "cell_type": "code",
      "execution_count": null,
      "id": "dc0733d2",
      "metadata": {
        "execution": {
          "iopub.execute_input": "2023-09-26T05:37:26.096029Z",
          "iopub.status.busy": "2023-09-26T05:37:26.094638Z",
          "iopub.status.idle": "2023-09-26T05:37:33.958096Z"
        },
        "trusted": true,
        "vscode": {
          "languageId": "r"
        }
      },
      "outputs": [],
      "source": [
        "# Example usage and runtime reporting\n",
        "chr <- \"chr1\"\n",
        "x <- 10000\n",
        "y <- 12000\n",
        "# Extract relevant data for the chromosome\n",
        "# Assuming the GFF3 format columns: chromosome, start, end\n",
        "GFF <- gff3_file %>%\n",
        "  filter(V1 == chr) %>%\n",
        "  select(chromosome = V1, start = V4, end = V5) %>%\n",
        "  mutate(start = as.numeric(start), end = as.numeric(end))  # Convert start and end to numeric\n",
        "\n",
        "# Sort the coordinates for binary search\n",
        "sorted.coordinates <- sort(c(GFF$start, GFF$end))\n",
        "\n",
        "# Runtime for linear search\n",
        "linear_time <- system.time(count.features.linear(chr, x, y, GFF))[3]\n",
        "linear_result <- count.features.linear(chr, x, y, GFF)\n",
        "cat(\"Linear Search:\", linear_result, \"times\\n\")\n",
        "\n",
        "# Runtime for vectorized search\n",
        "vectorized_time <- system.time(count.features.vectorized(chr, x, y, GFF))[3]\n",
        "vectorized_result <- count.features.vectorized(chr, x, y, GFF)\n",
        "cat(\"Vectorized Search:\", vectorized_result, \"times\\n\")\n",
        "\n",
        "# Runtime for binary search\n",
        "binary_time <- system.time(count.features.binary(chr, x, y, sorted.coordinates))[3]\n",
        "binary_result <- count.features.binary(chr, x, y, sorted.coordinates)\n",
        "cat(\"Binary Search:\", binary_result, \"times\\n\")\n",
        "\n",
        "# Report runtimes\n",
        "cat(\"Linear Search Runtime:\", linear_time, \"seconds\\n\")\n",
        "cat(\"Vectorized Search Runtime:\", vectorized_time, \"seconds\\n\")\n",
        "cat(\"Binary Search Runtime:\", binary_time, \"seconds\\n\")"
      ]
    },
    {
      "cell_type": "markdown",
      "id": "f37bc921",
      "metadata": {},
      "source": [
        "**4.1 Visualization of runtimes**\n"
      ]
    },
    {
      "cell_type": "code",
      "execution_count": null,
      "id": "a0c9e7b0",
      "metadata": {
        "execution": {
          "iopub.execute_input": "2023-09-26T05:37:33.961653Z",
          "iopub.status.busy": "2023-09-26T05:37:33.960411Z",
          "iopub.status.idle": "2023-09-26T05:37:34.178693Z"
        },
        "trusted": true,
        "vscode": {
          "languageId": "r"
        }
      },
      "outputs": [],
      "source": [
        "# Create a vector of runtimes\n",
        "runtimes <- c(linear_time, vectorized_time, binary_time)\n",
        "\n",
        "# Create a bar chart\n",
        "barplot(runtimes, \n",
        "        names.arg = c(\"Linear Search\", \"Vectorized Search\", \"Binary Search\"),\n",
        "        col = c(\"blue\", \"red\", \"green\"),  # Colors for the bars\n",
        "        ylab = \"Runtime (seconds)\",  # Label for the y-axis\n",
        "        main = \"Comparison of Runtimes\",  # Title of the plot\n",
        "        ylim = c(0, max(runtimes) + 0.01))  # Adjust the y-axis limits"
      ]
    },
    {
      "cell_type": "markdown",
      "id": "5877367c",
      "metadata": {},
      "source": [
        "# Extra Tasks\n",
        "\n",
        "\n",
        "### **Task E1:** Query interval spanning only known coordinates ###\n"
      ]
    },
    {
      "cell_type": "code",
      "execution_count": null,
      "id": "9516eba6",
      "metadata": {
        "execution": {
          "iopub.execute_input": "2023-09-26T05:56:49.600980Z",
          "iopub.status.busy": "2023-09-26T05:56:49.599381Z",
          "iopub.status.idle": "2023-09-26T06:11:26.248890Z"
        },
        "trusted": true,
        "vscode": {
          "languageId": "r"
        }
      },
      "outputs": [],
      "source": [
        "annotation_intervals <- list()\n",
        "for (i in 1:nrow(GFF)){\n",
        "    pair <- c(GFF$start[i], GFF$end[i])\n",
        "    annotation_intervals <- c(annotation_intervals, list(pair))\n",
        "}"
      ]
    },
    {
      "cell_type": "code",
      "execution_count": null,
      "id": "d09b4147",
      "metadata": {
        "execution": {
          "iopub.execute_input": "2023-09-26T05:51:16.777197Z",
          "iopub.status.busy": "2023-09-26T05:51:16.775546Z",
          "iopub.status.idle": "2023-09-26T05:51:29.851984Z"
        },
        "trusted": true,
        "vscode": {
          "languageId": "r"
        }
      },
      "outputs": [],
      "source": [
        "# Initialize a list of pairs to store intervals like dictionary\n",
        "interval_map <- list()\n",
        "\n",
        "# Populate the hashmap with interval coordinates\n",
        "for (idx in seq_along(annotation_intervals)) {\n",
        "  interval <- annotation_intervals[[idx]]\n",
        "  start <- interval[1]\n",
        "  end <- interval[2]\n",
        "  for (coord in seq(start, end)) {\n",
        "    interval_map[[as.character(coord)]] <- idx\n",
        "  }\n",
        "}"
      ]
    },
    {
      "cell_type": "code",
      "execution_count": null,
      "id": "554475e8",
      "metadata": {
        "execution": {
          "iopub.execute_input": "2023-09-26T06:23:54.779930Z",
          "iopub.status.busy": "2023-09-26T06:23:54.778300Z",
          "iopub.status.idle": "2023-09-26T06:23:56.201896Z"
        },
        "trusted": true,
        "vscode": {
          "languageId": "r"
        }
      },
      "outputs": [],
      "source": [
        "# Function to find overlapping intervals for [x, y]\n",
        "find_overlapping_intervals <- function(x, y, interval_map) {\n",
        "  count <- 0\n",
        "  for (coord in seq(x, y)) {\n",
        "    if (as.character(coord) %in% names(interval_map)) {\n",
        "      count <- count + 1\n",
        "    }\n",
        "  }\n",
        "  return(count)\n",
        "}\n",
        "\n",
        "# Query interval\n",
        "x <- 5788\n",
        "y <- 5824\n",
        "\n",
        "# Find overlapping intervals\n",
        "\n",
        "count <- find_overlapping_intervals(x, y, interval_map)\n",
        "runtime_imp <- system.time(find_overlapping_intervals(x, y, interval_map))[3]\n",
        "\n",
        "# Print the result\n",
        "cat(count, \"times\\n\")\n",
        "cat(\"Improved runtime: \", runtime_imp, \"seconds\")"
      ]
    }
  ],
  "metadata": {
    "kernelspec": {
      "display_name": "R",
      "language": "R",
      "name": "ir"
    }
  },
  "nbformat": 4,
  "nbformat_minor": 5
}
